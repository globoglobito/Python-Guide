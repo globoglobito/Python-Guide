{
 "cells": [
  {
   "cell_type": "markdown",
   "metadata": {},
   "source": [
    "# A Small simple guide to learn Python:\n",
    "\n",
    "Adapted from the NSA Guide to Python Programming. Seriously if you want something more comprehensive, and you like reading courses, check it out at:\n",
    "https://archive.org/details/comp3321/page/n89/mode/2up/search/device\n",
    "\n",
    "### Adapted by: Bruno M. Cervantes Quino\n",
    "\n",
    "### V1.01"
   ]
  },
  {
   "cell_type": "markdown",
   "metadata": {},
   "source": [
    "## Installing Python (and Jupyter notebooks) via Anaconda.\n",
    "\n",
    "1) Download Anaconda https://www.anaconda.com/distribution/\n",
    "\n",
    "2) Install it! It's quite simple ....\n",
    "\n",
    "3) Load Anaconda Navigator and click on Jupyter Notebook\n",
    "\n",
    "4) Use the Jupyter navigator (It should have loaded into your browser... like Chrome) and navigate until you find your jupyter notebook (for this example it should be called Python_Training.ipynb)"
   ]
  },
  {
   "cell_type": "markdown",
   "metadata": {},
   "source": [
    "## Installing a Package.\n",
    "Maybe, you'll find that you need to import a module, but Python doesn't have it. Very simple remedy!\n",
    "\n",
    "For Windows:\n",
    "\n",
    "1) Go into Anaconda Navigator and click on 'CMD.exe Prompt'\n",
    "\n",
    "2) Inside the command line type:"
   ]
  },
  {
   "cell_type": "code",
   "execution_count": null,
   "metadata": {},
   "outputs": [],
   "source": [
    "pip install name_of_package\n",
    "\n",
    "pip3 install name_of_package # ONLY if you have Python 3 and Python 2"
   ]
  },
  {
   "cell_type": "markdown",
   "metadata": {},
   "source": [
    "For Mac OS / linux :\n",
    "\n",
    "1) Go to your terminal.\n",
    "\n",
    "2) Inside the terminal type:"
   ]
  },
  {
   "cell_type": "code",
   "execution_count": null,
   "metadata": {},
   "outputs": [],
   "source": [
    "pip install name_of_package\n",
    "\n",
    "pip3 install name_of_package # ONLY if you have Python 3 and Python 2"
   ]
  },
  {
   "cell_type": "markdown",
   "metadata": {},
   "source": [
    "## Types of Data: \n",
    "\n",
    "Some basic types of data you'll work with (as you can imagine there are plenty more!)\n"
   ]
  },
  {
   "cell_type": "markdown",
   "metadata": {},
   "source": [
    "### Numerics:"
   ]
  },
  {
   "cell_type": "code",
   "execution_count": null,
   "metadata": {},
   "outputs": [],
   "source": [
    "1234 # This is an Integer! Any Positive or Negative number.\n",
    "\n",
    "1.34565667 # This is a FLoat! Any decimal number (as well as scientific notations)"
   ]
  },
  {
   "cell_type": "markdown",
   "metadata": {},
   "source": [
    "### Non Numeric: "
   ]
  },
  {
   "cell_type": "code",
   "execution_count": null,
   "metadata": {},
   "outputs": [],
   "source": [
    "\"Hello 1234!\" ## This is a string! It can have any character, both letters, numbers and other symbols!"
   ]
  },
  {
   "cell_type": "markdown",
   "metadata": {},
   "source": [
    "### Boolean"
   ]
  },
  {
   "cell_type": "code",
   "execution_count": null,
   "metadata": {},
   "outputs": [],
   "source": [
    "True\n",
    "False\n",
    "#(1 and 0 respectively)"
   ]
  },
  {
   "cell_type": "markdown",
   "metadata": {},
   "source": [
    "## Creating variables:\n",
    "Usually when you type some information, you plan to reuse it. This is why variables exist!"
   ]
  },
  {
   "cell_type": "code",
   "execution_count": null,
   "metadata": {},
   "outputs": [],
   "source": [
    "test = \"Hello\"\n",
    "test2 = 123\n",
    "test3 = True\n",
    "\n",
    "print(test)\n",
    "print(test2)\n",
    "print(test3)"
   ]
  },
  {
   "cell_type": "markdown",
   "metadata": {},
   "source": [
    "## Basic flow control:"
   ]
  },
  {
   "cell_type": "markdown",
   "metadata": {},
   "source": [
    "### IF, ELSE (and elif)\n",
    "Change the variable (x) to see how the flow changes!"
   ]
  },
  {
   "cell_type": "code",
   "execution_count": null,
   "metadata": {},
   "outputs": [],
   "source": [
    "x = 5\n",
    "\n",
    "if x > 4:\n",
    "    print(\"Greater than 3\")\n",
    "elif x == 2:\n",
    "    print(\"Equal to 2\")\n",
    "else:\n",
    "    print(\"No condition is met!\")\n",
    "\n",
    "\n"
   ]
  },
  {
   "cell_type": "markdown",
   "metadata": {},
   "source": [
    "### While loops:\n",
    "#### CAREFUL, be sure your closing condition is actually met! Otherwise it will be an infinite loooooop"
   ]
  },
  {
   "cell_type": "code",
   "execution_count": null,
   "metadata": {},
   "outputs": [],
   "source": [
    "x = 0\n",
    "while x != 10:\n",
    "    print(x)\n",
    "    x+= 1 ### take this one out and you'll be printing 0 forever! (or run out of memory, whichever occurs first)"
   ]
  },
  {
   "cell_type": "markdown",
   "metadata": {},
   "source": [
    "### For loops:"
   ]
  },
  {
   "cell_type": "code",
   "execution_count": null,
   "metadata": {},
   "outputs": [],
   "source": [
    "x = [0,1,2,3] # this is a list, we will cover this later.\n",
    "for n in x:\n",
    "    print()"
   ]
  },
  {
   "cell_type": "markdown",
   "metadata": {},
   "source": [
    "## Tad more advanced flow control:"
   ]
  },
  {
   "cell_type": "markdown",
   "metadata": {},
   "source": [
    "### CONTINUE clause:\n",
    "Returns the flow to the beginning of the while loop. The continue statement rejects all the remaining statements below it"
   ]
  },
  {
   "cell_type": "code",
   "execution_count": null,
   "metadata": {},
   "outputs": [],
   "source": [
    "i = 0\n",
    "while(True):\n",
    "    i += 1\n",
    "    if (i ==5):\n",
    "        continue # take this line out to see what happens\n",
    "        print(\"I will never be printed\")   \n",
    "    print(i)\n",
    "    if(i == 8):\n",
    "        break\n"
   ]
  },
  {
   "cell_type": "markdown",
   "metadata": {},
   "source": [
    "### BREAK clause\n",
    "Terminates the flow."
   ]
  },
  {
   "cell_type": "code",
   "execution_count": null,
   "metadata": {},
   "outputs": [],
   "source": [
    "i = 0\n",
    "while(True):\n",
    "    i += 1\n",
    "    print(i)\n",
    "    if (i == 8):\n",
    "        break"
   ]
  },
  {
   "cell_type": "markdown",
   "metadata": {},
   "source": [
    "### For Loop with range function.\n",
    "range() creates the integer numbers between the given start integer to the stop integer."
   ]
  },
  {
   "cell_type": "code",
   "execution_count": null,
   "metadata": {},
   "outputs": [],
   "source": [
    "b = range(0,10,1) # from 0 to 10 (not inclusive) in steps of 1\n",
    "b[0] ## first\n",
    "b[-1] ## last"
   ]
  },
  {
   "cell_type": "code",
   "execution_count": null,
   "metadata": {},
   "outputs": [],
   "source": [
    "for i in range(10,20,2): ##From 10 to 20(not inclusive) in steps of 2\n",
    "    print(i)"
   ]
  },
  {
   "cell_type": "code",
   "execution_count": null,
   "metadata": {},
   "outputs": [],
   "source": [
    "for i in range(100,0,-10): ##From 100 to 0 (not inclusive) in steps of -10\n",
    "    print(i)   "
   ]
  },
  {
   "cell_type": "markdown",
   "metadata": {},
   "source": [
    "### Strings are actually sequences!"
   ]
  },
  {
   "cell_type": "code",
   "execution_count": null,
   "metadata": {},
   "outputs": [],
   "source": [
    "a=\"pepe\"\n",
    "for i in range(len(a)):\n",
    "    print(\"The character at position \" + str(i) + \" is \" + a[i])"
   ]
  },
  {
   "cell_type": "code",
   "execution_count": null,
   "metadata": {},
   "outputs": [],
   "source": [
    "a=\"pepe\"\n",
    "for (i,j) in enumerate(a): ## this version is preferrable\n",
    "    print(\"The character at position \" + str(i) + \" is \" + j)"
   ]
  },
  {
   "cell_type": "markdown",
   "metadata": {},
   "source": [
    "### Example: \n",
    "Note: This is a function (noted by the def. You'll learn about making them soon(TM)"
   ]
  },
  {
   "cell_type": "code",
   "execution_count": null,
   "metadata": {},
   "outputs": [],
   "source": [
    "def shout_words(string):\n",
    "    if (type(string) != str):\n",
    "        print(\"Not string\")\n",
    "    else:\n",
    "        for x in string.split(\" \"):\n",
    "            print(x.upper())\n",
    "\n",
    "shout_words(\"hello all\") # Feel free to change this"
   ]
  },
  {
   "cell_type": "markdown",
   "metadata": {},
   "source": [
    "### Example 2:"
   ]
  },
  {
   "cell_type": "code",
   "execution_count": null,
   "metadata": {},
   "outputs": [],
   "source": [
    "def extract_longer(nu,x):\n",
    "    lista = x.split(\" \")\n",
    "    lista_final=[]\n",
    "    for x in range(len(lista)):\n",
    "        if len(lista[x]) != nu:\n",
    "            pass\n",
    "        else:\n",
    "            lista_final.append(lista[x])\n",
    "    if not lista_final:\n",
    "        return False\n",
    "    else:\n",
    "        print(lista_final)\n",
    "                   \n",
    "extract_longer(2, \"hola tue sir ella\")   # Feel free to change this       "
   ]
  },
  {
   "cell_type": "markdown",
   "metadata": {},
   "source": [
    "## Python Lists:\n",
    "Lists are a type of collection which is ordered and changeable. Allows duplicate members."
   ]
  },
  {
   "cell_type": "code",
   "execution_count": null,
   "metadata": {},
   "outputs": [],
   "source": [
    "fruit = ['Apple','Orange','Pear','Lime'] # creates a list\n",
    "\n",
    "fruit.append('Banana') ## appends this to the end\n",
    "\n",
    "fruit.insert(3,'Cherry') ## inserts into position 3 (aka 4)\n",
    "\n",
    "fruit.append(['Apple','lemon']) ### It will append this list inside the list so that ... 'Banana', ['Kiwi', 'Apple']]\n",
    "\n",
    "fruit.extend(['Apple','lemon']) ### it will extend the list to include this list (basically an append for mutiple items)\n",
    "\n",
    "fruit.remove('Apple') ### removes the first instance of 'Apple'\n",
    "\n",
    "fruit.pop() # shows the n item, using nothing acts like a .first()\n",
    "\n",
    "fruit + fruit ## + acts like an .extend()\n",
    "\n",
    "len(fruit) # number of elements in list\n",
    "\n",
    "'Apple' in fruit  # True, but one thing, if you had apple in your nested list, it will give out FALSE\n",
    "\n",
    "fruit.count('Apple') # 1. but like the line above, it doesnt count nested list inside list\n",
    "\n",
    "fruit.index('Apple',1,7) # returns position of index of the first item whose value is equal to Apple. You can add 2 parameters the index number to start and the index number to finish your search"
   ]
  },
  {
   "cell_type": "markdown",
   "metadata": {},
   "source": [
    "### List comprehension AKA fancy, more efficient way to do 'for loops'"
   ]
  },
  {
   "cell_type": "code",
   "execution_count": null,
   "metadata": {},
   "outputs": [],
   "source": [
    "[i for i in range(10)] #[0, 1, 2, 3, 4, 5, 6, 7, 8, 9]\n",
    "\n",
    "[[i,i*2,i**2] for i in range(5)] # [[0, 0, 0], [1, 2, 1], [2, 4, 4], [3, 6, 9], [4, 8, 16]]\n",
    "\n",
    "[[i,i*2,i**2] for i in range(10) if i % 2 == 0]  # [[0, 0, 0], [2, 4, 4], [4, 8, 16], [6, 12, 36], [8, 16, 64]]\n",
    "\n",
    "[[i+j for i in 'ab'] for j in 'def'] # [['ad', 'bd'], ['ae', 'be'], ['af', 'bf']]"
   ]
  },
  {
   "cell_type": "markdown",
   "metadata": {},
   "source": [
    "### Sorting and reordering."
   ]
  },
  {
   "cell_type": "code",
   "execution_count": null,
   "metadata": {},
   "outputs": [],
   "source": [
    "lista = ['uno', 'dos', 'tres'  ]\n",
    "sorted(lista) ## sorts from a to z, returns a new list\n",
    "lista.sort() ## mutates the current list in place.\n",
    "\n",
    "# you can also reverse the order of a list.\n",
    "list(reversed(lista)) ### reversed returns an iterator, you need to explicitly convert it back to list\n",
    "\n",
    "# a list contains a number of objects in a specific order VS  an iterator yields a number of objects in a specific order\n",
    "# a list of a trillion integers would use more memory than most machines have available, which makes the iterator much more efficient ... at the cost of not being able to ask for an object somewhere in the middle"
   ]
  },
  {
   "cell_type": "markdown",
   "metadata": {},
   "source": [
    "### Slight detour to yield\n",
    "You use yield to iterate over long sequences and you dont want to charge everything into Memory (or need more control)"
   ]
  },
  {
   "cell_type": "code",
   "execution_count": null,
   "metadata": {},
   "outputs": [],
   "source": [
    "def pepe(n):\n",
    "    for x in range(n):\n",
    "        yield x\n",
    "a = pepe(3)\n",
    "next(a) # yields  0\n",
    "#next(a) # yields  1\n",
    "##next(a) # yields  2\n",
    "###next(a) # Error! StopIteration.\n",
    "\n",
    "#### Try taking the # from the statements and run the cell again!\n",
    "#### Using Yield allow you to create a function that can iterate over humongous amounts of data (even infinite) since it only loads a vale at a time.\n",
    "#### If you try to do this with return and a very big number... you will run out of memmory."
   ]
  },
  {
   "cell_type": "markdown",
   "metadata": {},
   "source": [
    "## Tuples: \n",
    "An inmutable python list. Thus you cannot use use methods that changes in-place the list."
   ]
  },
  {
   "cell_type": "code",
   "execution_count": null,
   "metadata": {},
   "outputs": [],
   "source": [
    "tupla = ('a','b','c')\n",
    "\n",
    "new_tupla = tupla + tupla ### you can however concatenate tuples to create a new one out of existing ones.\n",
    "\n",
    "new_tupla # But again this is a new object the original one  hasnt changed.\n"
   ]
  },
  {
   "cell_type": "markdown",
   "metadata": {},
   "source": [
    "## Slicing and Index:\n",
    "These operations exists for any sequence! "
   ]
  },
  {
   "cell_type": "code",
   "execution_count": null,
   "metadata": {},
   "outputs": [],
   "source": [
    "\n",
    "weh = ('a','b','c','d','e','f')\n",
    "weh[1] # b\n",
    "weh[1:3] # b, c \n",
    "weh[3] in weh[1:3] # false, position 3 doesnt exsit in that slice of weh\n",
    "weh[:3] # a,b,c\n",
    "weh[3:] # d,e,f\n",
    "weh[0:5:2] # a, c, e steps of 2\n",
    "weh[::-1] # f,e,d,c,b,a\n"
   ]
  },
  {
   "cell_type": "markdown",
   "metadata": {},
   "source": [
    "## Dictionary AKA key-value pairs:\n",
    "REMEMBER the keys must be unique!"
   ]
  },
  {
   "cell_type": "code",
   "execution_count": null,
   "metadata": {},
   "outputs": [],
   "source": [
    "veggies = {'broccoli': 1, 'rhubarb':2}\n",
    "\n",
    "veggies['spinach'] = 3  ## adds in the same list the key value pair\n",
    "del veggies['rhubarb'] ## deletes the value in the dictionary\n",
    "veggies.update({'lettuce':4}) ## same as above\n",
    "\n",
    "'spinach' in veggies # true yo search the key\n",
    "3 in veggies # False you only search the key not the value\n",
    "veggies['spinach'] # 3 HOWEVER HOWEVER DONT USE THIS IT MIGHT THROW AN ERROR IF THE KEY DOESNT EXIST\n",
    "veggies.get('spinach') # use this instead\n",
    "veggies.get('rhubarb') # returns None\n",
    "veggies.get('rhubarb',2) # returns the value of the key value you just searched, but your dictionary is unchanged\n",
    "veggies.clear() # Empties the dictionary"
   ]
  },
  {
   "cell_type": "markdown",
   "metadata": {},
   "source": [
    "## Sets and FrozenSets: \n",
    "A collection which is unordered and unindexed. No duplicate members."
   ]
  },
  {
   "cell_type": "code",
   "execution_count": null,
   "metadata": {},
   "outputs": [],
   "source": [
    "#Adding something already there will do nothing (but no errors)\n",
    "## 2 sets are equal if they contain the same items, regardless of order\n",
    "number = set([2,3,4,5,6,7])\n",
    "\n",
    "### frozensets are the same but immutable\n",
    "number_f = frozenset([1,2,3,4,5])\n",
    "\n",
    "##Special operations\n",
    "set_a = set(['one','two','three'])\n",
    "set_b = set(['one','four','five'])\n",
    "\n",
    "set_a & set_b ## 'one' the intersection \n",
    "set_a | set_b ## 'five', 'four', 'one', 'three', 'two'  the union\n",
    "set_a ^ set_b ## 'five', 'four', 'three', 'two' the symmetric difference aka all that doesnt intersects\n",
    "set_a - set_b ## 'five', 'four', 'three', 'two' the asymmetric difference aka everything in a that's not in b\n"
   ]
  },
  {
   "cell_type": "markdown",
   "metadata": {},
   "source": [
    "## File Input and Output"
   ]
  },
  {
   "cell_type": "markdown",
   "metadata": {},
   "source": [
    "### Basic example to write into a file"
   ]
  },
  {
   "cell_type": "code",
   "execution_count": null,
   "metadata": {},
   "outputs": [],
   "source": [
    "myfile = open('data.txt', 'w' ) #dont forget that if the file is in another directory put the path!'\n",
    "myfile.write(\"wololo\")  ## Opening a file at already exists will erase the original file\n",
    "myfile.close()"
   ]
  },
  {
   "cell_type": "markdown",
   "metadata": {},
   "source": [
    "#### There are different modes: 'r' reading, 'a' appending, 'r+' rading and writing and 'b' binary mode"
   ]
  },
  {
   "cell_type": "markdown",
   "metadata": {},
   "source": [
    "### A way to use a file in a block is using 'with':"
   ]
  },
  {
   "cell_type": "code",
   "execution_count": null,
   "metadata": {},
   "outputs": [],
   "source": [
    "with open('data.txt') as f:\n",
    "    print(f.read()) "
   ]
  },
  {
   "cell_type": "markdown",
   "metadata": {},
   "source": [
    "### Using writelines"
   ]
  },
  {
   "cell_type": "code",
   "execution_count": null,
   "metadata": {},
   "outputs": [],
   "source": [
    "with open('data2.txt', 'w') as f:\n",
    "    f.writelines(\"first\\n\")\n",
    "    f.writelines([\"second\\n\", \"third\\n\"])    \n",
    "with open('data2.txt') as f:\n",
    "    print(f.read())"
   ]
  },
  {
   "cell_type": "markdown",
   "metadata": {},
   "source": [
    "### How to read line by line without loading everything in to memory:"
   ]
  },
  {
   "cell_type": "code",
   "execution_count": null,
   "metadata": {},
   "outputs": [],
   "source": [
    "with open('data2.txt') as reader:\n",
    "    for line in reader:\n",
    "        print(line.strip()) #### strip() removes new lines and whitespaces"
   ]
  },
  {
   "cell_type": "markdown",
   "metadata": {},
   "source": [
    "### The tell and seek methods:\n",
    "The tell method returns the current position of the cursor within the file.\n",
    "The seek command sets the position of the cursor within the file"
   ]
  },
  {
   "cell_type": "code",
   "execution_count": null,
   "metadata": {},
   "outputs": [],
   "source": [
    "inputfile = open('data2.txt','r')\n",
    "inputfile.tell() # tells 0\n",
    "inputfile.read(4) ## reads 4 chars\n",
    "inputfile.tell() # tells 4 now, menaing that if you execute read() youll get all the characters after the first 4.\n",
    "inputfile.seek(0) # returns to position 0 of the file, meaning that you'll read since the beginning\n",
    "inputfile.read()  # reads everything, to prove that seek works.\n",
    "inputfile.close()"
   ]
  },
  {
   "cell_type": "markdown",
   "metadata": {},
   "source": [
    "### File like objects\n",
    "A very useful module to make a string into a file like object is called StringIO, it takes a string and give it file methods like read and write. "
   ]
  },
  {
   "cell_type": "code",
   "execution_count": null,
   "metadata": {},
   "outputs": [],
   "source": [
    "import io\n",
    "\n",
    "mystringfile = io.StringIO()   # for handing bytes use io.BytesIO\n",
    "mystringfile.write(\"this is my data\") # We just wrote to the object, not a file.\n",
    "mystringfile.read() ## Cursor is currently at the end after the write we performed.\n",
    "mystringfile.seek(0) ## Now we are back at position 0\n",
    "mystringfile.read()  ## proof\n",
    "mystringfile = io.StringIO(\"MyData\") ## this would create the object with data inside and initiate at position 0\n",
    "\n",
    "\n"
   ]
  },
  {
   "cell_type": "markdown",
   "metadata": {},
   "source": [
    "#### Pretend we have a function that expects to read data from a file before it operates."
   ]
  },
  {
   "cell_type": "code",
   "execution_count": null,
   "metadata": {},
   "outputs": [],
   "source": [
    "def iprintdata(x):\n",
    "    print(x.read())\n",
    "#iprintdata(\"wololo\") ### wont work, its a string.\n",
    "my_io = io.StringIO('wololo')\n",
    "iprintdata(my_io)"
   ]
  },
  {
   "cell_type": "markdown",
   "metadata": {},
   "source": [
    "## OBJECT Orienteering:"
   ]
  },
  {
   "cell_type": "markdown",
   "metadata": {},
   "source": [
    "### Your first class:"
   ]
  },
  {
   "cell_type": "code",
   "execution_count": null,
   "metadata": {},
   "outputs": [],
   "source": [
    "class Person(object):\n",
    "    pass\n",
    "nobody = Person()\n",
    "type(nobody) ## type Person!"
   ]
  },
  {
   "cell_type": "code",
   "execution_count": null,
   "metadata": {},
   "outputs": [],
   "source": [
    "class Person(object):\n",
    "    species = \"Homo sapiens\" \n",
    "    def talk(self): # remmeber to give every method atleast an argument (almost always self). Python Internally translate nobody.talk() into Person.talk(nobody)\n",
    "        return \"Hello!\"\n",
    "\n",
    "nobody = Person()\n",
    "nobody.species # 'Homo sapiens'\n",
    "nobody.talk() # 'Hello!'\n",
    "\n",
    "# You can assign and re assign data attributes\n",
    "nobody.name = \"Ashens\" # new attribute!\n",
    "nobody.species = \"Human\" # reassigned\n",
    "nobody.species #Human \n",
    "nobody.name # Ashens\n",
    "del nobody.name # deleted\n",
    "#nobody.name # AttributeError! no longer exists"
   ]
  },
  {
   "cell_type": "markdown",
   "metadata": {},
   "source": [
    "### Ofcourse its better if you assign instance specific attributes if you are gonna keep adding them everytime.\n",
    "You create this attributesd using the __innit__ function."
   ]
  },
  {
   "cell_type": "code",
   "execution_count": null,
   "metadata": {},
   "outputs": [],
   "source": [
    "class Person(object):\n",
    "    species = \"Homo sapiens\" \n",
    "    def __init__(self, name=\"Unknown\", age=18):\n",
    "        self.name = name\n",
    "        self.age = age\n",
    "    def talk(self): \n",
    "        return \"Hello! My name is {}.\".format(self.name)"
   ]
  },
  {
   "cell_type": "code",
   "execution_count": null,
   "metadata": {},
   "outputs": [],
   "source": [
    "ashens = Person(\"Ashens\", 38)\n",
    "ashens.name\n",
    "ashens.age"
   ]
  },
  {
   "cell_type": "code",
   "execution_count": null,
   "metadata": {},
   "outputs": [],
   "source": [
    "# Dynamic allocations of __str__ and __repr__\n",
    "# To control how your object is printed, implement '__str__' and to control how it looks as an output from the interactive interpreter, implement \"__repr__\""
   ]
  },
  {
   "cell_type": "code",
   "execution_count": null,
   "metadata": {},
   "outputs": [],
   "source": [
    "def person_str(self):\n",
    "    return \"Name: {0}, Age:{1}\".format(self.name, self.age) \n",
    "Person.__str__ = person_str\n",
    "def person_repr(self):\n",
    "    return \"Person('{0}','{1})'\".format(self.name, self.age)\n",
    "Person.__repr__ = person_repr\n"
   ]
  },
  {
   "cell_type": "code",
   "execution_count": null,
   "metadata": {},
   "outputs": [],
   "source": [
    "print(ashens) ## before it was something like <__main__.Person object at 0x000001CDD78EDE88>"
   ]
  },
  {
   "cell_type": "code",
   "execution_count": null,
   "metadata": {},
   "outputs": [],
   "source": [
    "ashens  ## before it was something like <__main__.Person at 0x1cdd78ede88>"
   ]
  },
  {
   "cell_type": "markdown",
   "metadata": {},
   "source": [
    "### Nevertheless, in practice we rarely do this (just because you can, doesnt mean you should). SO isntead the class should be initiated like this:"
   ]
  },
  {
   "cell_type": "code",
   "execution_count": null,
   "metadata": {},
   "outputs": [],
   "source": [
    "class Person(object):\n",
    "    species = \"Homo sapiens\" \n",
    "    def __init__(self, name=\"Unknown\", age=18):\n",
    "        self.name = name\n",
    "        self.age = age\n",
    "    def talk(self): \n",
    "        return \"Hello! My name is {}.\".format(self.name)\n",
    "    def __str__(self):\n",
    "        return \"Name: {0}, Age:{1}\".format(self.name, self.age)\n",
    "    def __repr__(self):\n",
    "        return \"Person('{0}','{1})'\".format(self.name, self.age)\n",
    "    def __eq__(self, other):\n",
    "        return self.age == other.age\n",
    "\n",
    "rob = Person(\"Rob\", 33)\n",
    "frank = Person(\"Frank\", 38)\n",
    "rob2 = Person(\"Rob2\", 33)\n",
    "\n",
    "rob # Person('Rob','33)'\n",
    "print(frank) # Name: Frank, Age:38\n",
    "rob == frank #False\n",
    "rob == rob2  # True"
   ]
  },
  {
   "cell_type": "markdown",
   "metadata": {},
   "source": [
    "### Inheritance: A class created from an existing class"
   ]
  },
  {
   "cell_type": "code",
   "execution_count": null,
   "metadata": {},
   "outputs": [],
   "source": [
    "class Student(Person):\n",
    "    bedtime = 'Midnight'\n",
    "    def work(self):\n",
    "        import time\n",
    "        print(\"Work\")\n",
    "        time.sleep(5)\n",
    "        print(\"Fugggg\")\n",
    "tyler = Student(\"Tyler\", 21)\n",
    "tyler.species # 'Homo sapiens'\n",
    "tyler.talk() # Hello! ....\n",
    "tyler.work()"
   ]
  },
  {
   "cell_type": "markdown",
   "metadata": {},
   "source": [
    "### Creating a python script with a class\n",
    "The main thing... get it? IS that because you added the __name .... if you were to run this script in the cli, then it will execute, but if you import it as a module... you will just get the definitions and funcitons... but no execution"
   ]
  },
  {
   "cell_type": "code",
   "execution_count": null,
   "metadata": {},
   "outputs": [],
   "source": [
    "class Awesome(object):\n",
    "    def __init__(self,awesome_thing): \n",
    "        self.thing = awesome_thing\n",
    "    def __str__(self):\n",
    "        return \"{0.thing} is awesome!!!\".format(self)\n",
    "    \n",
    "def cool(x):\n",
    "    return \"All is cool when you are part of {0}\".format(x)\n",
    "\n",
    "def main(): \n",
    "    potato= Awesome(\"Potato\")\n",
    "    potatoCoolio = cool(potato.thing)\n",
    "    print(potato)\n",
    "    print(potatoCoolio)  \n",
    "    \n",
    "if __name__ == '__main__':\n",
    "    main()"
   ]
  },
  {
   "cell_type": "markdown",
   "metadata": {},
   "source": [
    "## Namespace:\n",
    "Are what store the name of all variables, functions, classes, modules, etc. Kind of like a big dictionary that maps the name to the things named\n",
    "\n",
    "Global namespace: is accesible from everywhere in the program.\n",
    "\n",
    "Local Namespace: Is accesible depending on the current scope - whether you are in a function, loop, class, etc. Also each module has its own namespace."
   ]
  },
  {
   "cell_type": "code",
   "execution_count": null,
   "metadata": {},
   "outputs": [],
   "source": [
    "dir() # shows the names in the global namespace.\n",
    "x = \"pepe\"\n",
    "dir() # now x appears!\n",
    "locals() == globals() # should be true, since we are not inside  a function or a loop.\n"
   ]
  },
  {
   "cell_type": "markdown",
   "metadata": {},
   "source": [
    "## Exceptions:"
   ]
  },
  {
   "cell_type": "code",
   "execution_count": null,
   "metadata": {},
   "outputs": [],
   "source": [
    "# for i in range(10) # invalid syntax... this happens when Python cannot parse what you typed.\n",
    "# There are more exceptions!\n",
    "\n",
    "import builtins\n",
    "help(builtins) # there are a shitton"
   ]
  },
  {
   "cell_type": "markdown",
   "metadata": {},
   "source": [
    "When an exception occurs, best option is to handle them and do something more than just exit and print to the screen.\n",
    "\n",
    "Some exceptions are useful! like KeyboardInterrupt (means you pressed Ctr-C to kill an execution).\n",
    "\n",
    "In python you do this with the try and except commands.\n"
   ]
  },
  {
   "cell_type": "markdown",
   "metadata": {},
   "source": [
    "### Example 1:"
   ]
  },
  {
   "cell_type": "code",
   "execution_count": null,
   "metadata": {},
   "outputs": [],
   "source": [
    "def f(x):\n",
    "    try: \n",
    "        print(\"Im going to convert the input to an integer\")\n",
    "        print(int(x))\n",
    "    except ValueError:\n",
    "        print (\"I am afraid i cannot do this john\")\n",
    "        \n",
    "#To explain the logic behind this madness:\n",
    "# Everything between try and except is executed\n",
    "# If that produces no exceptions, except block is skipped and he program continues.\n",
    "# if an exception occurs, the rest of the try block is skipped.\n",
    "# If the type of exception is named after the except block, the code after except is executed\n",
    "# Else the execution stops and you have an unhandled exception"
   ]
  },
  {
   "cell_type": "markdown",
   "metadata": {},
   "source": [
    "### Example 2:"
   ]
  },
  {
   "cell_type": "code",
   "execution_count": null,
   "metadata": {},
   "outputs": [],
   "source": [
    "\n",
    "def f(x):\n",
    "    try: \n",
    "        print(\"Im going to convert the input to an integer\")\n",
    "        print(int(x))\n",
    "    except (ValueError, TypeError) as  detail:\n",
    "        print (\"handled exception\", detail)\n",
    "    except:\n",
    "        print(\"unhandled exception!\")\n",
    "    finally:\n",
    "        print(\"this will always run!\")\n",
    "\n",
    "# You can add multiple exceptions in an except command, and using as allow us to capture it into a message.\n",
    "# The finally command will ALWAYS be executed, regardless of whether there was an exception or not.... So use this to clean up anything left over from try and except.\n",
    "# Note that in spite of this, having an auxiliary function to clean might be useful to be executed before running you main() As some errors cannot be caught (your server collapses and shuts down for example)"
   ]
  },
  {
   "cell_type": "markdown",
   "metadata": {},
   "source": [
    "### Raising Exceptions:\n",
    "Sometimes you will want to cause an exception and let someone else handle it. You use the raise command"
   ]
  },
  {
   "cell_type": "code",
   "execution_count": null,
   "metadata": {},
   "outputs": [],
   "source": [
    "raise TypeError('Wrong type')\n",
    "# If no inbuilt exception is suitable for what you want to raise, defining a new type of exception is as easy as creating  a  new class that inherits from the Exception type.\n",
    "class myOwnError(Exception):\n",
    "    pass\n",
    "raise myOwnError(\"Wololo!\")"
   ]
  },
  {
   "cell_type": "markdown",
   "metadata": {},
   "source": [
    "#### Creating your own Iterator (Digression alert): \n",
    "(Honestly for 95% of your work you will never see this, but hey its good to know right?)"
   ]
  },
  {
   "cell_type": "code",
   "execution_count": null,
   "metadata": {},
   "outputs": [],
   "source": [
    "\n",
    "\n",
    "class NonFactorIterable(object):\n",
    "    def __init__(self, *args):\n",
    "        self.avoid_multiples = args\n",
    "        self.x = 0\n",
    "    def __next__(self):\n",
    "        self.x += 1\n",
    "        while True:\n",
    "            if self.x > 200:  \n",
    "                raise StopIteration ## this is a great way to handle an event that is not unexpected but requires termination\n",
    "            for y in self.avoid_multiples:\n",
    "                if self.x % y == 0:\n",
    "                    self.x += 1\n",
    "                    break\n",
    "            else:\n",
    "                return self.x\n",
    "    def __iter__(self):\n",
    "        return self\n",
    "\n",
    "silent_fizz_buzz = NonFactorIterable(3, 5)\n",
    "\n",
    "[x for x in silent_fizz_buzz]\n",
    "\n",
    "weh = NonFactorIterable(2, 3, 5, 7, 11, 13, 17)\n",
    "\n",
    "[x for x in weh]"
   ]
  },
  {
   "cell_type": "markdown",
   "metadata": {},
   "source": [
    "#### Generators: iterators with a much ligther syntax. a very simple one looks like list comprehensiosn but with () instead of [].\n",
    "#### More complicated generators are like funcitons except that you use yield instead of return (remember the slight detour i took earlier? Go back and check it :) )"
   ]
  },
  {
   "cell_type": "markdown",
   "metadata": {},
   "source": [
    "## String Formatting:\n",
    "Some basic examples"
   ]
  },
  {
   "cell_type": "markdown",
   "metadata": {},
   "source": [
    "### Example 1:"
   ]
  },
  {
   "cell_type": "code",
   "execution_count": null,
   "metadata": {},
   "outputs": [],
   "source": [
    "'This is a formatted string: {}'.format(\"hello, i am the formatted string\")"
   ]
  },
  {
   "cell_type": "markdown",
   "metadata": {},
   "source": [
    "### Example 2:"
   ]
  },
  {
   "cell_type": "code",
   "execution_count": null,
   "metadata": {},
   "outputs": [],
   "source": [
    "'{2}, {0} and {1}'.format('meh', 'weh', 'eh')\n",
    "\n"
   ]
  },
  {
   "cell_type": "markdown",
   "metadata": {},
   "source": [
    "### Example 3:"
   ]
  },
  {
   "cell_type": "code",
   "execution_count": null,
   "metadata": {},
   "outputs": [],
   "source": [
    "'{who} is a {what}'.format(who = 'Rob', what='broccoli')\n",
    "\n"
   ]
  },
  {
   "cell_type": "markdown",
   "metadata": {},
   "source": [
    "### Example 4:\n",
    "Now with more lists (you can also use dictionaries):"
   ]
  },
  {
   "cell_type": "code",
   "execution_count": null,
   "metadata": {},
   "outputs": [],
   "source": [
    "fruit = ['mango','tomato','apple']\n",
    "'{0[2]} is a fruit'.format(fruit) "
   ]
  },
  {
   "cell_type": "markdown",
   "metadata": {},
   "source": [
    "### f-string (Python 3.6+)\n",
    "Expressions added directly inside the {}"
   ]
  },
  {
   "cell_type": "code",
   "execution_count": null,
   "metadata": {},
   "outputs": [],
   "source": [
    "x = 34\n",
    "y = 33\n",
    "f\"{x+y}\""
   ]
  },
  {
   "cell_type": "markdown",
   "metadata": {},
   "source": [
    "## Functional Programming in Python\n",
    "\n",
    "\n",
    "Warning, the following topic (as you'll see in the examples) is a bit more obtuse.\n",
    "Moroever, Python is not really well optimised to do heavy programming the functional way... so while neat and good to know... you kinda can skip this part."
   ]
  },
  {
   "cell_type": "code",
   "execution_count": null,
   "metadata": {},
   "outputs": [],
   "source": [
    "### This is is functional:\n",
    "def increment(x):\n",
    "    return x + 1"
   ]
  },
  {
   "cell_type": "code",
   "execution_count": null,
   "metadata": {},
   "outputs": [],
   "source": [
    "# This is not:\n",
    "a = 0\n",
    "def increment():\n",
    "    global a\n",
    "    a += 1"
   ]
  },
  {
   "cell_type": "markdown",
   "metadata": {},
   "source": [
    "#### Sligthly more complex example:"
   ]
  },
  {
   "cell_type": "code",
   "execution_count": null,
   "metadata": {},
   "outputs": [],
   "source": [
    "# This is functional:\n",
    "\n",
    "def functionalEx(n):\n",
    "    if n == 0:\n",
    "        return 0\n",
    "    else:\n",
    "        return n + functionalEx(n - 1) # this is called recursion\n",
    "\n",
    "functionalEx(4)   "
   ]
  },
  {
   "cell_type": "code",
   "execution_count": null,
   "metadata": {},
   "outputs": [],
   "source": [
    "# This is not:\n",
    "def notFunctionalEx(n):\n",
    "    counter = n\n",
    "    summation = 0\n",
    "    while counter != 0: # while loops are never functional, as it depends on a variable that changes aka mutates for it to work \n",
    "        summation += counter\n",
    "        counter -= 1\n",
    "    return summation\n",
    "        \n",
    "notFunctionalEx(4)  "
   ]
  },
  {
   "cell_type": "markdown",
   "metadata": {},
   "source": [
    "### Recursion! How to loop without a loop aka without mutability"
   ]
  },
  {
   "cell_type": "markdown",
   "metadata": {},
   "source": [
    "Again remember my example? Here you dont change a variable, you are merely calling the same function over and over again with an updated parameter"
   ]
  },
  {
   "cell_type": "code",
   "execution_count": null,
   "metadata": {},
   "outputs": [],
   "source": [
    "def functionalEx(n):\n",
    "    if n == 0:\n",
    "        return 0\n",
    "    else:\n",
    "        return n + functionalEx(n - 1) # this is called recursion"
   ]
  },
  {
   "cell_type": "markdown",
   "metadata": {},
   "source": [
    "The always classic fibonacci number"
   ]
  },
  {
   "cell_type": "code",
   "execution_count": null,
   "metadata": {},
   "outputs": [],
   "source": [
    "def nthFib(n):\n",
    "    if n < 1:\n",
    "        return 0\n",
    "    elif n ==1:\n",
    "        return 1\n",
    "    elif n == 2:\n",
    "        return 1\n",
    "    else:\n",
    "        return nthFib(n-2) + nthFib(n - 1)\n",
    "\n",
    "nthFib(10)"
   ]
  },
  {
   "cell_type": "markdown",
   "metadata": {},
   "source": [
    "#### Warning: Wall of text incomming"
   ]
  },
  {
   "cell_type": "markdown",
   "metadata": {},
   "source": [
    "Note about recursion: Python is not optimised to be a functional programming language like Scala. For example there is a recursion limit (1000 calls). \n",
    "\n",
    "Remember, there is no universal programming language. if you needed strictly functional pragramming try scala.\n",
    "\n",
    "With that said, there is technically a workaround.... which is tail recursion (which in python is not optimized).\n",
    "\n",
    "NOTE: For this to work you would need to create your own tail recursion class... which is beyond the scope of this guide\n",
    "(But here is an example https://stackoverflow.com/questions/27417874/tail-recursion-optimization-decorator-in-python)"
   ]
  },
  {
   "cell_type": "code",
   "execution_count": null,
   "metadata": {},
   "outputs": [],
   "source": [
    "#@tail_recursive\n",
    "def functional_tailEx(n, accum = 0):\n",
    "    if n == 0:\n",
    "        return accum\n",
    "    else:\n",
    "        return functional_tailEx(n - 1, accum + n) # this is called tail recursion.\n",
    "\n",
    "# functionalEx(4)\n",
    "## 4 + functionalEx(4 - 1) -> 4 + (3 + functionalEx(3-1)) --> ...... -> 4 + (3 + ( 2 + (1 + (functionalEx(0)))) # n keeps increasing!!!!\n",
    "\n",
    "# functional_tailEx(4)\n",
    "## functional_tailEx(functional_tailEx(functional_tailEx(functional_tailEx(functional_tailEx(0))))) ### no n, you are merely calling the function over and over again with a bigger parameter accum\n",
    "\n"
   ]
  },
  {
   "cell_type": "markdown",
   "metadata": {},
   "source": [
    "## Map and Reduce:\n",
    "Technically this is still part part functional programming, but this is more applicable for python than recursion and quite frankly is important to know."
   ]
  },
  {
   "cell_type": "markdown",
   "metadata": {},
   "source": [
    "### map: is a function that takes 2 arguments: another function and a collection of items. it will:\n",
    "1) Run the function on each item of the original collection\n",
    "\n",
    "2) Return a new colection containing the results (its an iterator so you need to convert it to something else to print it)\n",
    "\n",
    "3) This leaves the original colection unchanged"
   ]
  },
  {
   "cell_type": "markdown",
   "metadata": {},
   "source": [
    "### Example 1:"
   ]
  },
  {
   "cell_type": "code",
   "execution_count": null,
   "metadata": {},
   "outputs": [],
   "source": [
    "name_lengths = map(len,['Mary','Isla','Sam'])\n",
    "print(list(name_lengths)) # [4, 4, 3]"
   ]
  },
  {
   "cell_type": "markdown",
   "metadata": {},
   "source": [
    "### Example 2:"
   ]
  },
  {
   "cell_type": "code",
   "execution_count": null,
   "metadata": {},
   "outputs": [],
   "source": [
    "squares = map(lambda x: x * x, [0,2,3,4])\n",
    "print(list(squares)) ## [0, 4, 9, 16]"
   ]
  },
  {
   "cell_type": "markdown",
   "metadata": {},
   "source": [
    "##### What is lambda:\n",
    "Lambda allows you to define an anonymous function. Arguments fit between lambda and : so x is an argument. The stuff after the colon gets implicitly returned\n",
    "\n",
    "I would use lambda functions for map (but ... if its  avery complex function i wouldnt).For very simple cases or when you dont need to reuse the function multiple times. Remember if you dont save the results they are gone forever."
   ]
  },
  {
   "cell_type": "markdown",
   "metadata": {},
   "source": [
    "### Example 3:"
   ]
  },
  {
   "cell_type": "code",
   "execution_count": null,
   "metadata": {},
   "outputs": [],
   "source": [
    "import random\n",
    "names = ['Trump', 'Biden', 'Berney']\n",
    "covernames = map(lambda x: random.choice(['COVFEFE','BEEEERN','UKRAINE']),names)\n",
    "print(list(covernames))"
   ]
  },
  {
   "cell_type": "markdown",
   "metadata": {},
   "source": [
    "### reduce: Follow-on counterpart to map  given a function and a collection of items, it uses the function to combine them into a single value:\n",
    "Functions passed tor educe have some restrinctions. It must take 2 arguments, an accumulator a and an update value u. u is like before with map, it will get set to each item in your colection one by one. a is new, it will receive the output from the previous function call, thus combining value from item to item"
   ]
  },
  {
   "cell_type": "code",
   "execution_count": null,
   "metadata": {},
   "outputs": [],
   "source": [
    "import functools # for reduce\n",
    "sum = functools.reduce(lambda a, u: a + u, [0,1,2,3,4])\n",
    "print(sum)"
   ]
  },
  {
   "cell_type": "markdown",
   "metadata": {},
   "source": [
    "## Command line Arguments:\n",
    "Everything passed as Arguments to a Python program is available in the intepreter as the list of string in sys.argv "
   ]
  },
  {
   "cell_type": "code",
   "execution_count": null,
   "metadata": {},
   "outputs": [],
   "source": [
    "import sys\n",
    "print(sys.argv)\n",
    "\n",
    "# When running a script, sys.argv[0] is the name of the script (since this is a jupyter notebook, the notebook isnt the python script so dont get confused, rather it is argument 2)\n",
    "# in theory you could parse this but youll be limited to simple positional arguments"
   ]
  },
  {
   "cell_type": "markdown",
   "metadata": {},
   "source": [
    "### The argparse Module \n",
    "Your way to parse arguments other than simple positional ones"
   ]
  },
  {
   "cell_type": "code",
   "execution_count": null,
   "metadata": {},
   "outputs": [],
   "source": [
    "import argparse\n",
    "parser = argparse.ArgumentParser()\n",
    "parser.add_argument('n')\n",
    "parser.add_argument('-f')\n",
    "parser.add_argument('-i', '--input')\n",
    "parser.print_help()\n",
    "args = parser.parse_args('abc -f xyz'.split())\n",
    "args.f"
   ]
  },
  {
   "cell_type": "markdown",
   "metadata": {},
   "source": [
    "Now copy this code below and save it into a test.py file. "
   ]
  },
  {
   "cell_type": "code",
   "execution_count": null,
   "metadata": {},
   "outputs": [],
   "source": [
    "import argparse\n",
    "parser = argparse.ArgumentParser()\n",
    "parser.add_argument('n')\n",
    "parser.add_argument('-f')\n",
    "parser.add_argument('-i', '--input')\n",
    "args = parser.parse_args()\n",
    "\n",
    "print(args)\n",
    "\n",
    "# Now go to your command line/terminal and execute the following commands:\n",
    "#!python3 test.py -f hello hello2 --input=hello3.txt\n",
    "#!python3 test.py -h\n",
    "\n",
    "#What do you see?"
   ]
  },
  {
   "cell_type": "markdown",
   "metadata": {},
   "source": [
    "### Advanced stuff:\n",
    "The add_argument method can configure behavior, such as making the parser attempt to convert arguments to the specified type like int or float or file (so long as its a single string argument)"
   ]
  },
  {
   "cell_type": "code",
   "execution_count": null,
   "metadata": {},
   "outputs": [],
   "source": [
    "parser = argparse.ArgumentParser()\n",
    "parser.add_argument('n', type=int)\n",
    "parser.parse_args('5'.split()) ## Namespace(n=5)"
   ]
  },
  {
   "cell_type": "markdown",
   "metadata": {},
   "source": [
    "The nargs keyword lets arguments specify a fixed or variable number of arguments to consume. \n",
    "\n",
    "Giving nargs the vale '?' makes positional arguments optional, in which case the default keyword is required"
   ]
  },
  {
   "cell_type": "code",
   "execution_count": null,
   "metadata": {},
   "outputs": [],
   "source": [
    "parser = argparse.ArgumentParser()\n",
    "parser.add_argument('n', nargs=2)\n",
    "parser.add_argument('-m', nargs='*') # arbitrary number arguments\n",
    "parser.parse_args('n1 n2 -m a b c'.split()) # Namespace(m=['a', 'b', 'c'], n=['n1', 'n2'])"
   ]
  },
  {
   "cell_type": "code",
   "execution_count": null,
   "metadata": {},
   "outputs": [],
   "source": [
    "parser.add_argument('o', nargs='?', default='meh') # arbitrary arguments\n",
    "parser.parse_args('n1 n2 -m a b c'.split()) # Namespace(m=['a', 'b', 'c'], n=['n1', 'n2'], o='meh')\n",
    "parser.parse_args('n1 n2 hue -m a b c'.split()) # Namespace(m=['a', 'b', 'c'], n=['n1', 'n2'], o='hue')"
   ]
  },
  {
   "cell_type": "markdown",
   "metadata": {},
   "source": [
    "The default keyword can also be used with optional arguments. When an optional arguments is always used as a flag without parameter, it is also possible to use the action='store_const' and const keyword.\n",
    "\n",
    "In this case, when the option is detected, the Namespace is given an appropiately-named sttribute with const as it value. If the option is not present in the parsed args, the attributr is created with the value given in default or None if it isnt set.\n",
    "\n",
    "For more info https://docs.python.org/3.7/library/argparse.html"
   ]
  },
  {
   "cell_type": "code",
   "execution_count": null,
   "metadata": {},
   "outputs": [],
   "source": [
    "parser = argparse.ArgumentParser()\n",
    "parser.add_argument('-n', action='store_const', const=7) # again if the flag is given as an argument the constant value of 7 will be returned, if nothing is presented since there is no default None is returned\n",
    "parser.add_argument('-b', action='store_true') # if the flag is given as an argument. true is returned else false\n",
    "parser.add_argument('-c', action='store_const', const=5, default=3)\n",
    "\n",
    "parser.parse_args([])  # Namespace(b=False, c=3, n=None)\n",
    "\n",
    "parser.parse_args('-n -b'.split()) #Namespace(b=True, c=3, n=7)\n",
    "\n",
    "parser.parse_args('-cbn'.split()) #Namespace(b=True, c=5, n=7)"
   ]
  },
  {
   "cell_type": "markdown",
   "metadata": {},
   "source": [
    "## Logging:\n",
    "The easiest way to look Pro... and make your life easier!\n",
    "The logging module is included. Lets start by writing messages at different levels."
   ]
  },
  {
   "cell_type": "code",
   "execution_count": null,
   "metadata": {},
   "outputs": [],
   "source": [
    "import logging\n",
    "logging.warning(\"You have been warned\")\n",
    "\n",
    "logging.critical(\"ABORT ABORT ABORT\")\n",
    "\n",
    "logging.info('This is some info') ### this one may not appear! By default the root logger is set to only handle messages Warning or higher.\n",
    "\n",
    "logging.root.setLevel(logging.INFO)\n",
    "logging.root.getEffectiveLevel() == logging.INFO \n",
    "logging.info('This is some info that should now appear')\n"
   ]
  },
  {
   "cell_type": "markdown",
   "metadata": {},
   "source": [
    "As you can see there are several levels, from least to most important: DEBUG, INFO, WARNING, ERROR, CRITICAL\n",
    "\n",
    "The level of the root logger can be configured at module level, but MUST be done before any messages are sent.\n",
    "\n",
    "Otherwise the level must be set directly on the logger."
   ]
  },
  {
   "cell_type": "markdown",
   "metadata": {},
   "source": [
    "##### Try this in a New Session (it wont work if you already displayed messages)"
   ]
  },
  {
   "cell_type": "code",
   "execution_count": null,
   "metadata": {},
   "outputs": [],
   "source": [
    "import logging\n",
    "\n",
    "logging.basicConfig(level=logging.INFO)\n",
    "logging.info(\"this is some new info.\")\n",
    "logging.root.getEffectiveLevel() == logging.INFO\n",
    "\n",
    "# INFO messages should appear without any setLevel"
   ]
  },
  {
   "cell_type": "markdown",
   "metadata": {},
   "source": [
    "From all this, a strategy emerges around using logging to improve your debugging:\n",
    "    \n",
    "1) Instead of print staments, add calls to logging.debug to your code.\n",
    "\n",
    "2) At the top of your script, use logging.basicConfig(level=logging.DEBUG) for development: switch to INFO or WARNING for production.\n",
    "    \n",
    "3) Optionally make a command line option for your script that enables debugging output(eg my_script.py --verbose)\n",
    "\n",
    "\n",
    "#### Note there is much much more stuff you could do, like using multiple loggers at the same time, each handing its own formatting and levels. Again this is just the tip."
   ]
  },
  {
   "cell_type": "markdown",
   "metadata": {},
   "source": [
    "## System interaction\n",
    "os module: allows you to interact with your operating system.\n",
    "#### For this part you might be better served copying the code into a .py file and running it on the shell"
   ]
  },
  {
   "cell_type": "code",
   "execution_count": null,
   "metadata": {},
   "outputs": [],
   "source": [
    "import os\n",
    "os.getcwd()\n",
    "os.chdir('/tmp') ## Only works for Unix... use another dir for windows :P\n",
    "os.listdir()\n",
    "walker = os.walk(os.curdir) # returns a generator that traverses the fs tree starting on the argument. \n",
    "type(walker)\n",
    "list(walker)"
   ]
  },
  {
   "cell_type": "markdown",
   "metadata": {},
   "source": [
    "A variety of methods allow you to examine, modify, and create or remove directories"
   ]
  },
  {
   "cell_type": "code",
   "execution_count": null,
   "metadata": {},
   "outputs": [],
   "source": [
    "f= open('file.txt','w') ## you remember this right?\n",
    "f.close()\n",
    "os.stat('file.txt')\n",
    "os.mkdir('new_dir')\n",
    "os.rename('file.txt', 'newdir\\\\file.txt')"
   ]
  },
  {
   "cell_type": "markdown",
   "metadata": {},
   "source": [
    "The os.path submodule provides addtional functionality for your path needs."
   ]
  },
  {
   "cell_type": "code",
   "execution_count": null,
   "metadata": {},
   "outputs": [],
   "source": [
    "sample_path = os.path.join('meh','weh','hello')\n",
    "sample_path\n",
    "os.path.split(sample_path)\n",
    "os.path.exists(sample_path)\n"
   ]
  },
  {
   "cell_type": "markdown",
   "metadata": {},
   "source": [
    "### shutil Module:\n",
    "living on top of the os module it makes high elvel operations on files and collections of files easier"
   ]
  },
  {
   "cell_type": "code",
   "execution_count": null,
   "metadata": {},
   "outputs": [],
   "source": [
    "import shutil\n",
    "\n",
    "shutil.copyfile(source,dest) #overwrites dest\n",
    "\n",
    "shutil.copy(source,dest) #like a cp, if dest is a directory\n",
    "\n",
    "shutil.rmtree(path) #Must be a real directory\n",
    "\n",
    "shutil.move(source,dest) # works with directories\n"
   ]
  },
  {
   "cell_type": "markdown",
   "metadata": {},
   "source": [
    "## RESTful API\n",
    "How to interact with the outside world, via HTTPS using APIs"
   ]
  },
  {
   "cell_type": "markdown",
   "metadata": {},
   "source": [
    "For this part of this tutorial, we will be using the requests module. It might already come installed (Atleast in Anaconda it does )\n",
    "\n",
    "Otherwise in your terminal you type:\n",
    "    \n",
    "    pip install requests # Or pip3 if you have both python 2 and 3 in the system."
   ]
  },
  {
   "cell_type": "markdown",
   "metadata": {},
   "source": [
    "REST is simply a convention for structing a web API. \n",
    "\n",
    "This means an API that you interact with over HTTP/HTTPS, making requests to specific URLs to obtain information from the destination... or even add information to said destination."
   ]
  },
  {
   "cell_type": "markdown",
   "metadata": {},
   "source": [
    "#### These are the kind of requets you can do via HTTPS:\n",
    "    - GET: retrieve information (like search results). This is the most common type of request. The info you get depends on what the API can share.\n",
    "    - POST: adds new data to the server.\n",
    "    - PUT: changes existing information. For example, it would be possible to change the value of an existing item.\n",
    "    - DELETE: deletes existing information,"
   ]
  },
  {
   "cell_type": "markdown",
   "metadata": {},
   "source": [
    "The information you will request to get/put will usually come in the JSON format (or whatever is your favourite semi-structured and the API supports). That being said, your reponse could simply be a blob of text. Here is an example:\n",
    "\n",
    "{\n",
    "    \"id\": \"your_item\", \n",
    "    \"summary\": \"some info\"\n",
    "}\n",
    "\n",
    "\n"
   ]
  },
  {
   "cell_type": "markdown",
   "metadata": {},
   "source": [
    "### Example1:\n",
    "A GET task"
   ]
  },
  {
   "cell_type": "code",
   "execution_count": 39,
   "metadata": {
    "scrolled": true
   },
   "outputs": [
    {
     "name": "stdout",
     "output_type": "stream",
     "text": [
      "{\n",
      "  \"args\": {}, \n",
      "  \"headers\": {\n",
      "    \"Accept\": \"*/*\", \n",
      "    \"Accept-Encoding\": \"gzip, deflate\", \n",
      "    \"Host\": \"httpbin.org\", \n",
      "    \"User-Agent\": \"python-requests/2.22.0\", \n",
      "    \"X-Amzn-Trace-Id\": \"Root=1-5e7cdc22-750e3aea9e903e5e64688542\"\n",
      "  }, \n",
      "  \"origin\": \"46.25.209.181\", \n",
      "  \"url\": \"https://httpbin.org/get\"\n",
      "}\n",
      "\n"
     ]
    }
   ],
   "source": [
    "import requests\n",
    "\n",
    "request_1 = requests.get('https://www.python.org') \n",
    "request_1.status_code ### to see how this ended a 2xx code usually means success!\n",
    "\n",
    "if request_1.status_code != 200:\n",
    "    raise ApiError('GET ended in {}'.format(resp.status_code))\n",
    "#print(request_1.content) ## You will get a very chunky blob of text! \n",
    "request_1.headers.get('content-type') # As you can see here its no json\n",
    "\n",
    "#Now lets try getting the info from a site whose API will return a JSON\n",
    "\n",
    "request_2 = requests.get('https://httpbin.org/get')\n",
    "request_2.status_code\n",
    "request_2.headers.get('content-type') # Now its a Json\n",
    "print(request_2.text)\n"
   ]
  },
  {
   "cell_type": "markdown",
   "metadata": {},
   "source": [
    "### Example2:\n",
    "A POST task"
   ]
  },
  {
   "cell_type": "code",
   "execution_count": 42,
   "metadata": {},
   "outputs": [
    {
     "name": "stdout",
     "output_type": "stream",
     "text": [
      "{\n",
      "  \"args\": {}, \n",
      "  \"data\": \"\", \n",
      "  \"files\": {}, \n",
      "  \"form\": {\n",
      "    \"key1\": \"value1\", \n",
      "    \"key2\": \"value2\", \n",
      "    \"key3\": \"pepe\"\n",
      "  }, \n",
      "  \"headers\": {\n",
      "    \"Accept\": \"*/*\", \n",
      "    \"Accept-Encoding\": \"gzip, deflate\", \n",
      "    \"Content-Length\": \"33\", \n",
      "    \"Content-Type\": \"application/x-www-form-urlencoded\", \n",
      "    \"Host\": \"httpbin.org\", \n",
      "    \"User-Agent\": \"python-requests/2.22.0\", \n",
      "    \"X-Amzn-Trace-Id\": \"Root=1-5e7cdc7a-bb72496c709a3610b0e3a830\"\n",
      "  }, \n",
      "  \"json\": null, \n",
      "  \"origin\": \"46.25.209.181\", \n",
      "  \"url\": \"https://httpbin.org/post\"\n",
      "}\n",
      "\n"
     ]
    }
   ],
   "source": [
    "payload = dict(key1='value1', key2='value2', key3='pepe') # what you wish to insert.\n",
    "request_3 = requests.post('https://httpbin.org/post', data=payload)\n",
    "request_3.headers.get('content-type')\n",
    "print(request_3.text) ### look inside the \"form\" label"
   ]
  },
  {
   "cell_type": "markdown",
   "metadata": {},
   "source": [
    "#### FINAL NOTE:\n",
    "If you need to interact with your OS like executing a command ... That is beyond the scope of this guide... Congratulations, that means you are advanced enough to learn about subprocess (and if its too complex for your needs... you might try os.system... but better learn the big bad thing)"
   ]
  }
 ],
 "metadata": {
  "kernelspec": {
   "display_name": "Python 3",
   "language": "python",
   "name": "python3"
  },
  "language_info": {
   "codemirror_mode": {
    "name": "ipython",
    "version": 3
   },
   "file_extension": ".py",
   "mimetype": "text/x-python",
   "name": "python",
   "nbconvert_exporter": "python",
   "pygments_lexer": "ipython3",
   "version": "3.7.4"
  }
 },
 "nbformat": 4,
 "nbformat_minor": 4
}
